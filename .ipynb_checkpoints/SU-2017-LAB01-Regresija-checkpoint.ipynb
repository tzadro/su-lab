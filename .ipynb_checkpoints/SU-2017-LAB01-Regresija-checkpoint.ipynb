{
 "cells": [
  {
   "cell_type": "markdown",
   "metadata": {},
   "source": [
    "Sveučilište u Zagrebu  \n",
    "Fakultet elektrotehnike i računarstva  \n",
    "  \n",
    "## Strojno učenje 2017/2018  \n",
    "http://www.fer.unizg.hr/predmet/su"
   ]
  },
  {
   "cell_type": "markdown",
   "metadata": {},
   "source": [
    "------------------------------\n",
    "\n",
    "### Laboratorijska vježba 1: Regresija\n",
    "\n",
    "*Verzija: 1.1  \n",
    "Zadnji put ažurirano: 16. listopada 2017.*\n",
    "\n",
    "(c) 2015-2017 Jan Šnajder, Domagoj Alagić, Mladen Karan \n",
    "\n",
    "Objavljeno: **16. listopada 2017.**  \n",
    "Rok za predaju: **23. listopada 2017. u 07:00h**\n",
    "\n",
    "------------------------------"
   ]
  },
  {
   "cell_type": "markdown",
   "metadata": {},
   "source": [
    "### Upute\n",
    "\n",
    "Prva laboratorijska vježba sastoji se od osam zadataka. U nastavku slijedite upute navedene u ćelijama s tekstom. Rješavanje vježbe svodi se na **dopunjavanje ove bilježnice**: umetanja ćelije ili više njih **ispod** teksta zadatka, pisanja odgovarajućeg kôda te evaluiranja ćelija. \n",
    "\n",
    "Osigurajte da u potpunosti **razumijete** kôd koji ste napisali. Kod predaje vježbe, morate biti u stanju na zahtjev asistenta (ili demonstratora) preinačiti i ponovno evaluirati Vaš kôd. Nadalje, morate razumjeti teorijske osnove onoga što radite, u okvirima onoga što smo obradili na predavanju. Ispod nekih zadataka možete naći i pitanja koja služe kao smjernice za bolje razumijevanje gradiva (**nemojte pisati** odgovore na pitanja u bilježnicu). Stoga se nemojte ograničiti samo na to da riješite zadatak, nego slobodno eksperimentirajte. To upravo i jest svrha ovih vježbi.\n",
    "\n",
    "Vježbe trebate raditi **samostalno**. Možete se konzultirati s drugima o načelnom načinu rješavanja, ali u konačnici morate sami odraditi vježbu. U protivnome vježba nema smisla."
   ]
  },
  {
   "cell_type": "code",
   "execution_count": 1,
   "metadata": {},
   "outputs": [
    {
     "name": "stdout",
     "output_type": "stream",
     "text": [
      "Populating the interactive namespace from numpy and matplotlib\n"
     ]
    }
   ],
   "source": [
    "# Učitaj osnovne biblioteke...\n",
    "import numpy as np\n",
    "import scipy as sp\n",
    "import sklearn\n",
    "import matplotlib.pyplot as plt\n",
    "%pylab inline"
   ]
  },
  {
   "cell_type": "markdown",
   "metadata": {},
   "source": [
    "## Zadatci"
   ]
  },
  {
   "cell_type": "markdown",
   "metadata": {},
   "source": [
    "### 1. Jednostavna regresija"
   ]
  },
  {
   "cell_type": "markdown",
   "metadata": {},
   "source": [
    "Zadan je skup primjera $\\mathcal{D}=\\{(x^{(i)},y^{(i)})\\}_{i=1}^4 = \\{(0,4),(1,1),(2,2),(4,5)\\}$. Primjere predstavite matrixom $\\mathbf{X}$ dimenzija $N\\times n$ (u ovom slučaju $4\\times 1$) i vektorom oznaka $\\textbf{y}$, dimenzija $N\\times 1$ (u ovom slučaju $4\\times 1$), na sljedeći način:\n"
   ]
  },
  {
   "cell_type": "code",
   "execution_count": 2,
   "metadata": {},
   "outputs": [
    {
     "name": "stdout",
     "output_type": "stream",
     "text": [
      "X:\n",
      " [[0]\n",
      " [1]\n",
      " [2]\n",
      " [4]]\n",
      "y:\n",
      " [4 1 2 5]\n"
     ]
    }
   ],
   "source": [
    "X = np.array([[0],[1],[2],[4]])\n",
    "y = np.array([4,1,2,5])\n",
    "\n",
    "print('X:\\n', X)\n",
    "print('y:\\n', y)"
   ]
  },
  {
   "cell_type": "markdown",
   "metadata": {},
   "source": [
    "#### (a)\n",
    "\n",
    "Proučite funkciju [`PolynomialFeatures`](http://scikit-learn.org/stable/modules/generated/sklearn.preprocessing.PolynomialFeatures.html) iz biblioteke `sklearn` i upotrijebite je za generiranje matrice dizajna $\\mathbf{\\Phi}$ koja ne koristi preslikavanje u prostor više dimenzije (samo će svakom primjeru biti dodane *dummy* jedinice; $m=n+1$).\n"
   ]
  },
  {
   "cell_type": "code",
   "execution_count": 3,
   "metadata": {},
   "outputs": [
    {
     "name": "stdout",
     "output_type": "stream",
     "text": [
      "Φ:\n",
      " [[ 1.  0.]\n",
      " [ 1.  1.]\n",
      " [ 1.  2.]\n",
      " [ 1.  4.]]\n"
     ]
    }
   ],
   "source": [
    "from sklearn.preprocessing import PolynomialFeatures\n",
    "\n",
    "poly = PolynomialFeatures(2, True)\n",
    "dm = poly.fit_transform(X)\n",
    "\n",
    "print('Φ:\\n', dm)"
   ]
  },
  {
   "cell_type": "markdown",
   "metadata": {},
   "source": [
    "#### (b)"
   ]
  },
  {
   "cell_type": "markdown",
   "metadata": {},
   "source": [
    "Upoznajte se s modulom [`linalg`](http://docs.scipy.org/doc/numpy/reference/routines.linalg.html). Izračunajte težine $\\mathbf{w}$ modela linearne regresije kao $\\mathbf{w}=(\\mathbf{\\Phi}^\\intercal\\mathbf{\\Phi})^{-1}\\mathbf{\\Phi}^\\intercal\\mathbf{y}$. Zatim se uvjerite da isti rezultat možete dobiti izračunom pseudoinverza $\\mathbf{\\Phi}^+$ matrice dizajna, tj. $\\mathbf{w}=\\mathbf{\\Phi}^+\\mathbf{y}$, korištenjem funkcije [`pinv`](http://docs.scipy.org/doc/numpy/reference/generated/numpy.linalg.pinv.html)."
   ]
  },
  {
   "cell_type": "code",
   "execution_count": 4,
   "metadata": {
    "collapsed": true
   },
   "outputs": [],
   "source": [
    "from numpy import linalg"
   ]
  },
  {
   "cell_type": "code",
   "execution_count": 5,
   "metadata": {},
   "outputs": [
    {
     "name": "stdout",
     "output_type": "stream",
     "text": [
      "w: [ 2.2         0.45714286]\n",
      "w: [ 2.2         0.45714286]\n"
     ]
    }
   ],
   "source": [
    "w = dot(dot(inv(dot(dm.transpose(), dm)), dm.transpose()), y)\n",
    "print('w:', w)\n",
    "\n",
    "w = dot(pinv(dm), y)\n",
    "print('w:', w)"
   ]
  },
  {
   "cell_type": "markdown",
   "metadata": {},
   "source": [
    "Radi jasnoće, u nastavku je vektor $\\mathbf{x}$ s dodanom *dummy* jedinicom $x_0=1$ označen kao $\\tilde{\\mathbf{x}}$."
   ]
  },
  {
   "cell_type": "markdown",
   "metadata": {},
   "source": [
    "#### (c)"
   ]
  },
  {
   "cell_type": "markdown",
   "metadata": {},
   "source": [
    "Prikažite primjere iz $\\mathcal{D}$ i funkciju $h(\\tilde{\\mathbf{x}})=\\mathbf{w}^\\intercal\\tilde{\\mathbf{x}}$. Izračunajte pogrešku učenja prema izrazu $E(h|\\mathcal{D})=\\frac{1}{2}\\sum_{i=1}^N(\\tilde{\\mathbf{x}}^{(i)} - h(\\tilde{\\mathbf{x}}))^2$. Možete koristiti funkciju srednje kvadratne pogreške [`mean_squared_error`]( http://scikit-learn.org/stable/modules/generated/sklearn.metrics.mean_squared_error.html#sklearn.metrics.mean_squared_error) iz modula [`sklearn.metrics`](http://scikit-learn.org/stable/modules/classes.html#module-sklearn.metrics).\n",
    "\n",
    "**Q:** Gore definirana funkcija pogreške $E(h|\\mathcal{D})$ i funkcija srednje kvadratne pogreške nisu posve identične. U čemu je razlika? Koja je \"realnija\"?"
   ]
  },
  {
   "cell_type": "code",
   "execution_count": 6,
   "metadata": {},
   "outputs": [
    {
     "name": "stdout",
     "output_type": "stream",
     "text": [
      "Error:\t\t\t 4.08571428571\n",
      "Mean squared error:\t 2.04285714286\n"
     ]
    }
   ],
   "source": [
    "from sklearn.metrics import mean_squared_error\n",
    "\n",
    "h = dot(dm, w)\n",
    "error = np.sum(np.power(y - h, 2)) / 2\n",
    "\n",
    "print('Error:\\t\\t\\t', error)\n",
    "print('Mean squared error:\\t', mean_squared_error(y, h))"
   ]
  },
  {
   "cell_type": "markdown",
   "metadata": {},
   "source": [
    "**A:** Mean squared error nema 1/2 nego 1/N, zato je za 4 primjera pogreska ispala duplo manja od dane formule."
   ]
  },
  {
   "cell_type": "markdown",
   "metadata": {},
   "source": [
    "#### (d)"
   ]
  },
  {
   "cell_type": "markdown",
   "metadata": {},
   "source": [
    "Uvjerite se da za primjere iz $\\mathcal{D}$ težine $\\mathbf{w}$ ne možemo naći rješavanjem sustava $\\mathbf{w}=\\mathbf{\\Phi}^{-1}\\mathbf{y}$, već da nam doista treba pseudoinverz.\n",
    "\n",
    "**Q:** Zašto je to slučaj? Bi li se problem mogao riješiti preslikavanjem primjera u višu dimenziju? Ako da, bi li to uvijek funkcioniralo, neovisno o skupu primjera $\\mathcal{D}$? Pokažite na primjeru."
   ]
  },
  {
   "cell_type": "code",
   "execution_count": 7,
   "metadata": {},
   "outputs": [
    {
     "ename": "LinAlgError",
     "evalue": "Last 2 dimensions of the array must be square",
     "output_type": "error",
     "traceback": [
      "\u001b[0;31m---------------------------------------------------------------------------\u001b[0m",
      "\u001b[0;31mLinAlgError\u001b[0m                               Traceback (most recent call last)",
      "\u001b[0;32m<ipython-input-7-4a304a3d73fa>\u001b[0m in \u001b[0;36m<module>\u001b[0;34m()\u001b[0m\n\u001b[0;32m----> 1\u001b[0;31m \u001b[0mw\u001b[0m \u001b[0;34m=\u001b[0m \u001b[0mdot\u001b[0m\u001b[0;34m(\u001b[0m\u001b[0minv\u001b[0m\u001b[0;34m(\u001b[0m\u001b[0mdm\u001b[0m\u001b[0;34m)\u001b[0m\u001b[0;34m,\u001b[0m \u001b[0my\u001b[0m\u001b[0;34m)\u001b[0m\u001b[0;34m\u001b[0m\u001b[0m\n\u001b[0m",
      "\u001b[0;32m/usr/local/lib/python3.6/site-packages/numpy/linalg/linalg.py\u001b[0m in \u001b[0;36minv\u001b[0;34m(a)\u001b[0m\n\u001b[1;32m    506\u001b[0m     \u001b[0ma\u001b[0m\u001b[0;34m,\u001b[0m \u001b[0mwrap\u001b[0m \u001b[0;34m=\u001b[0m \u001b[0m_makearray\u001b[0m\u001b[0;34m(\u001b[0m\u001b[0ma\u001b[0m\u001b[0;34m)\u001b[0m\u001b[0;34m\u001b[0m\u001b[0m\n\u001b[1;32m    507\u001b[0m     \u001b[0m_assertRankAtLeast2\u001b[0m\u001b[0;34m(\u001b[0m\u001b[0ma\u001b[0m\u001b[0;34m)\u001b[0m\u001b[0;34m\u001b[0m\u001b[0m\n\u001b[0;32m--> 508\u001b[0;31m     \u001b[0m_assertNdSquareness\u001b[0m\u001b[0;34m(\u001b[0m\u001b[0ma\u001b[0m\u001b[0;34m)\u001b[0m\u001b[0;34m\u001b[0m\u001b[0m\n\u001b[0m\u001b[1;32m    509\u001b[0m     \u001b[0mt\u001b[0m\u001b[0;34m,\u001b[0m \u001b[0mresult_t\u001b[0m \u001b[0;34m=\u001b[0m \u001b[0m_commonType\u001b[0m\u001b[0;34m(\u001b[0m\u001b[0ma\u001b[0m\u001b[0;34m)\u001b[0m\u001b[0;34m\u001b[0m\u001b[0m\n\u001b[1;32m    510\u001b[0m \u001b[0;34m\u001b[0m\u001b[0m\n",
      "\u001b[0;32m/usr/local/lib/python3.6/site-packages/numpy/linalg/linalg.py\u001b[0m in \u001b[0;36m_assertNdSquareness\u001b[0;34m(*arrays)\u001b[0m\n\u001b[1;32m    210\u001b[0m     \u001b[0;32mfor\u001b[0m \u001b[0ma\u001b[0m \u001b[0;32min\u001b[0m \u001b[0marrays\u001b[0m\u001b[0;34m:\u001b[0m\u001b[0;34m\u001b[0m\u001b[0m\n\u001b[1;32m    211\u001b[0m         \u001b[0;32mif\u001b[0m \u001b[0mmax\u001b[0m\u001b[0;34m(\u001b[0m\u001b[0ma\u001b[0m\u001b[0;34m.\u001b[0m\u001b[0mshape\u001b[0m\u001b[0;34m[\u001b[0m\u001b[0;34m-\u001b[0m\u001b[0;36m2\u001b[0m\u001b[0;34m:\u001b[0m\u001b[0;34m]\u001b[0m\u001b[0;34m)\u001b[0m \u001b[0;34m!=\u001b[0m \u001b[0mmin\u001b[0m\u001b[0;34m(\u001b[0m\u001b[0ma\u001b[0m\u001b[0;34m.\u001b[0m\u001b[0mshape\u001b[0m\u001b[0;34m[\u001b[0m\u001b[0;34m-\u001b[0m\u001b[0;36m2\u001b[0m\u001b[0;34m:\u001b[0m\u001b[0;34m]\u001b[0m\u001b[0;34m)\u001b[0m\u001b[0;34m:\u001b[0m\u001b[0;34m\u001b[0m\u001b[0m\n\u001b[0;32m--> 212\u001b[0;31m             \u001b[0;32mraise\u001b[0m \u001b[0mLinAlgError\u001b[0m\u001b[0;34m(\u001b[0m\u001b[0;34m'Last 2 dimensions of the array must be square'\u001b[0m\u001b[0;34m)\u001b[0m\u001b[0;34m\u001b[0m\u001b[0m\n\u001b[0m\u001b[1;32m    213\u001b[0m \u001b[0;34m\u001b[0m\u001b[0m\n\u001b[1;32m    214\u001b[0m \u001b[0;32mdef\u001b[0m \u001b[0m_assertFinite\u001b[0m\u001b[0;34m(\u001b[0m\u001b[0;34m*\u001b[0m\u001b[0marrays\u001b[0m\u001b[0;34m)\u001b[0m\u001b[0;34m:\u001b[0m\u001b[0;34m\u001b[0m\u001b[0m\n",
      "\u001b[0;31mLinAlgError\u001b[0m: Last 2 dimensions of the array must be square"
     ]
    }
   ],
   "source": [
    "w = dot(inv(dm), y)"
   ]
  },
  {
   "cell_type": "code",
   "execution_count": null,
   "metadata": {
    "collapsed": true
   },
   "outputs": [],
   "source": [
    "poly = PolynomialFeatures(3, False)\n",
    "dm = poly.fit_transform(X)\n",
    "\n",
    "print('Φ:\\n', dm)\n",
    "\n",
    "w = dot(inv(dm), y)\n",
    "\n",
    "print('w:\\n', w)"
   ]
  },
  {
   "cell_type": "markdown",
   "metadata": {},
   "source": [
    "**A:** Matrica primjera bi trebala biti kvadratna, ako preslikamo primjere u vecu dimenziju, mozemo izracunati inverz. Ne bi uvijek funkcioniralo, jer moramo dic dimenziju na N, pa ako imamo puno primjera zauzeli bi previse memorije?"
   ]
  },
  {
   "cell_type": "markdown",
   "metadata": {},
   "source": [
    "#### (e) "
   ]
  },
  {
   "cell_type": "markdown",
   "metadata": {},
   "source": [
    "Proučite klasu [`LinearRegression`](http://scikit-learn.org/stable/modules/generated/sklearn.linear_model.LinearRegression.html#sklearn.linear_model.LinearRegression) iz modula [`sklearn.linear_model`](http://scikit-learn.org/stable/modules/classes.html#module-sklearn.linear_model). Uvjerite se da su težine koje izračunava ta funkcija (dostupne pomoću atributa `coef_` i `intercept_`) jednake onima koje ste izračunali gore. Izračunajte predikcije modela (metoda `predict`) i uvjerite se da je pogreška učenja identična onoj koju ste ranije izračunali."
   ]
  },
  {
   "cell_type": "code",
   "execution_count": 11,
   "metadata": {},
   "outputs": [
    {
     "name": "stdout",
     "output_type": "stream",
     "text": [
      "w: [2.2000000000000002, 0.45714285714285713]\n",
      "error: 4.08571428571\n"
     ]
    }
   ],
   "source": [
    "from sklearn.linear_model import LinearRegression\n",
    "\n",
    "linreg = LinearRegression()\n",
    "linreg.fit(X, y)\n",
    "\n",
    "w = [linreg.intercept_, linreg.coef_[0]]\n",
    "h = linreg.predict(X)\n",
    "error = np.sum(np.power(y - h, 2)) / 2\n",
    "\n",
    "print('w:', w)\n",
    "print('error:', error)"
   ]
  },
  {
   "cell_type": "markdown",
   "metadata": {},
   "source": [
    "### 2. Polinomijalna regresija i utjecaj šuma"
   ]
  },
  {
   "cell_type": "markdown",
   "metadata": {},
   "source": [
    "#### (a)\n",
    "\n",
    "Razmotrimo sada regresiju na većem broju primjera. Koristite funkciju `make_labels(X, f, noise=0)` koja uzima matricu neoznačenih primjera $\\mathbf{X}_{N\\times n}$ te generira vektor njihovih oznaka $\\mathbf{y}_{N\\times 1}$. Oznake se generiraju kao $y^{(i)} = f(x^{(i)})+\\mathcal{N}(0,\\sigma^2)$, gdje je $f:\\mathbb{R}^n\\to\\mathbb{R}$ stvarna funkcija koja je generirala podatke (koja nam je u stvarnosti nepoznata), a $\\sigma$ je standardna devijacija Gaussovog šuma, definirana parametrom `noise`. Za generiranje šuma koristi se funkcija [`numpy.random.normal`](http://docs.scipy.org/doc/numpy/reference/generated/numpy.random.normal.html). \n",
    "\n",
    "Generirajte skup za učenje od $N=50$ primjera uniformno distribuiranih u intervalu $[-5,5]$ pomoću funkcije $f(x) = 5 + x -2 x^2 -5 x^3$ uz šum  $\\sigma=200$:"
   ]
  },
  {
   "cell_type": "code",
   "execution_count": 12,
   "metadata": {
    "collapsed": true
   },
   "outputs": [],
   "source": [
    "from numpy.random import normal\n",
    "def make_labels(X, f, noise=0) :\n",
    "    return map(lambda x : f(x) + (normal(0,noise) if noise>0 else 0), X)"
   ]
  },
  {
   "cell_type": "code",
   "execution_count": 13,
   "metadata": {
    "collapsed": true
   },
   "outputs": [],
   "source": [
    "def make_instances(x1, x2, N) :\n",
    "    return sp.array([np.array([x]) for x in np.linspace(x1,x2,N)])"
   ]
  },
  {
   "cell_type": "code",
   "execution_count": 14,
   "metadata": {
    "collapsed": true
   },
   "outputs": [],
   "source": [
    "def f(x):\n",
    "    return 5 + x - 2 * x**2 - 5 * x**3\n",
    "\n",
    "N = 50\n",
    "noise = 200\n",
    "x_start = -5\n",
    "x_end = 5\n",
    "\n",
    "X = make_instances(x_start, x_end, N)\n",
    "y = np.array(list(make_labels(X, f, noise)))"
   ]
  },
  {
   "cell_type": "markdown",
   "metadata": {},
   "source": [
    "Prikažite taj skup funkcijom [`scatter`](http://matplotlib.org/api/pyplot_api.html#matplotlib.pyplot.scatter)."
   ]
  },
  {
   "cell_type": "code",
   "execution_count": 15,
   "metadata": {},
   "outputs": [
    {
     "data": {
      "image/png": "[encoded data removed]",
      "text/plain": [
       "<matplotlib.figure.Figure at 0x1158b8780>"
      ]
     },
     "metadata": {},
     "output_type": "display_data"
    }
   ],
   "source": [
    "plt.scatter(X, y)\n",
    "plt.show()"
   ]
  },
  {
   "cell_type": "markdown",
   "metadata": {},
   "source": [
    "#### (b)"
   ]
  },
  {
   "cell_type": "markdown",
   "metadata": {},
   "source": [
    "Trenirajte model polinomijalne regresije stupnja $d=3$. Na istom grafikonu prikažite naučeni model $h(\\mathbf{x})=\\mathbf{w}^\\intercal\\tilde{\\mathbf{x}}$ i primjere za učenje. Izračunajte pogrešku učenja modela."
   ]
  },
  {
   "cell_type": "code",
   "execution_count": 16,
   "metadata": {},
   "outputs": [
    {
     "name": "stdout",
     "output_type": "stream",
     "text": [
      "error: 1235870.05096\n"
     ]
    },
    {
     "data": {
      "image/png": "[encoded data removed]",
      "text/plain": [
       "<matplotlib.figure.Figure at 0x115f3d320>"
      ]
     },
     "metadata": {},
     "output_type": "display_data"
    }
   ],
   "source": [
    "deg = 3\n",
    "\n",
    "poly = PolynomialFeatures(deg)\n",
    "dm = poly.fit_transform(X)\n",
    "\n",
    "linreg = LinearRegression()\n",
    "linreg.fit(dm, y)\n",
    "\n",
    "h = linreg.predict(dm)\n",
    "error = np.sum(np.power(y - h, 2)) / 2\n",
    "\n",
    "print('error:', error)\n",
    "\n",
    "plt.plot(X, h, c='red')\n",
    "plt.scatter(X, y)\n",
    "plt.show()"
   ]
  },
  {
   "cell_type": "markdown",
   "metadata": {},
   "source": [
    "### 3. Odabir modela"
   ]
  },
  {
   "cell_type": "markdown",
   "metadata": {},
   "source": [
    "#### (a)\n",
    "\n",
    "Na skupu podataka iz zadatka 2 trenirajte pet modela linearne regresije $\\mathcal{H}_d$ različite složenosti, gdje je $d$ stupanj polinoma, $d\\in\\{1,3,5,10,20\\}$. Prikažite na istome grafikonu skup za učenje i funkcije $h_d(\\mathbf{x})$ za svih pet modela (preporučujemo koristiti `plot` unutar `for` petlje). Izračunajte pogrešku učenja svakog od modela.\n",
    "\n",
    "**Q:** Koji model ima najmanju pogrešku učenja i zašto?"
   ]
  },
  {
   "cell_type": "code",
   "execution_count": 17,
   "metadata": {},
   "outputs": [
    {
     "name": "stdout",
     "output_type": "stream",
     "text": [
      "Degree:   1\tError:   1630243.69\n",
      "Degree:   3\tError:   1235870.05\n",
      "Degree:   5\tError:   1205485.39\n",
      "Degree:  10\tError:   1167337.03\n",
      "Degree:  20\tError:    588171.92\n"
     ]
    },
    {
     "data": {
      "image/png": "[encoded data removed]",
      "text/plain": [
       "<matplotlib.figure.Figure at 0x115faecf8>"
      ]
     },
     "metadata": {},
     "output_type": "display_data"
    }
   ],
   "source": [
    "colors = ['red', 'green', 'blue', 'yellow', 'purple']\n",
    "degs = [1, 3, 5, 10, 20]\n",
    "\n",
    "for i, deg in enumerate(degs):\n",
    "    poly = PolynomialFeatures(deg)\n",
    "    dm = poly.fit_transform(X)\n",
    "\n",
    "    linreg = LinearRegression()\n",
    "    linreg.fit(dm, y)\n",
    "    \n",
    "    h = linreg.predict(dm)\n",
    "    error = np.sum(np.power(y - h, 2)) / 2\n",
    "\n",
    "    print('Degree: {:>3d}\\tError: {:>12.2f}'.format(deg, error))\n",
    "\n",
    "    plt.plot(X, h, c=colors[i], label='Deg ' + str(deg))\n",
    "\n",
    "plt.scatter(X, y)\n",
    "plt.legend()\n",
    "plt.show()"
   ]
  },
  {
   "cell_type": "markdown",
   "metadata": {},
   "source": [
    "**A:** Model s najvecim stupnjem ima najmanju pogresku ucenja jer je jako ekspresivan i pokorava se sumu."
   ]
  },
  {
   "cell_type": "markdown",
   "metadata": {},
   "source": [
    "#### (b)"
   ]
  },
  {
   "cell_type": "markdown",
   "metadata": {},
   "source": [
    "Razdvojite skup primjera iz zadatka 2 pomoću funkcije [`cross_validation.train_test_split`](http://scikit-learn.org/stable/modules/generated/sklearn.cross_validation.train_test_split.html#sklearn.cross_validation.train_test_split) na skup za učenja i skup za ispitivanje u omjeru 1:1. Prikažite na jednom grafikonu pogrešku učenja i ispitnu pogrešku za modele polinomijalne regresije $\\mathcal{H}_d$, sa stupnjem polinoma $d$ u rasponu $d\\in [1,2,\\ldots,20]$. Radi preciznosti, funkcije $h(\\mathbf{x})$ iscrtajte na cijelom skupu primjera (ali pogrešku generalizacije računajte, naravno, samo na ispitnome skupu). Budući da kvadratna pogreška brzo raste za veće stupnjeve polinoma, umjesto da iscrtate izravno iznose pogrešaka, iscrtajte njihove logaritme.\n",
    "\n",
    "**NB:** Podjela na skupa za učenje i skup za ispitivanje mora za svih pet modela biti identična.\n",
    "\n",
    "**Q:** Je li rezultat u skladu s očekivanjima? Koji biste model odabrali i zašto?\n",
    "\n",
    "**Q:** Pokrenite iscrtavanje više puta. U čemu je problem? Bi li problem bio jednako izražen kad bismo imali više primjera? Zašto?"
   ]
  },
  {
   "cell_type": "code",
   "execution_count": 18,
   "metadata": {},
   "outputs": [
    {
     "name": "stderr",
     "output_type": "stream",
     "text": [
      "/usr/local/lib/python3.6/site-packages/sklearn/cross_validation.py:41: DeprecationWarning: This module was deprecated in version 0.18 in favor of the model_selection module into which all the refactored classes and functions are moved. Also note that the interface of the new CV iterators are different from that of this module. This module will be removed in 0.20.\n",
      "  \"This module will be removed in 0.20.\", DeprecationWarning)\n"
     ]
    }
   ],
   "source": [
    "from sklearn import cross_validation"
   ]
  },
  {
   "cell_type": "code",
   "execution_count": 19,
   "metadata": {},
   "outputs": [
    {
     "name": "stdout",
     "output_type": "stream",
     "text": [
      "Degree:   1\tTrain:    644378.93\tTest:           1025849.32\n",
      "Degree:   2\tTrain:    556169.07\tTest:           1045054.70\n",
      "Degree:   3\tTrain:    353635.43\tTest:            981171.58\n",
      "Degree:   4\tTrain:    232931.67\tTest:           1739011.38\n",
      "Degree:   5\tTrain:    232887.55\tTest:           1736455.86\n",
      "Degree:   6\tTrain:    164085.78\tTest:           3467579.63\n",
      "Degree:   7\tTrain:    161568.90\tTest:           3435899.83\n",
      "Degree:   8\tTrain:    161073.78\tTest:           2959933.28\n",
      "Degree:   9\tTrain:    157676.35\tTest:           3061236.99\n",
      "Degree:  10\tTrain:    156122.99\tTest:           2007044.03\n",
      "Degree:  11\tTrain:    154846.83\tTest:           1918156.70\n",
      "Degree:  12\tTrain:    154797.63\tTest:           2245084.05\n",
      "Degree:  13\tTrain:    150747.18\tTest:          30632587.68\n",
      "Degree:  14\tTrain:    150712.14\tTest:          30067422.12\n",
      "Degree:  15\tTrain:    150142.94\tTest:         286867654.51\n",
      "Degree:  16\tTrain:     88294.16\tTest:       79454249068.74\n",
      "Degree:  17\tTrain:     87873.84\tTest:       54603274062.51\n",
      "Degree:  18\tTrain:     78806.72\tTest:     2029533167302.34\n",
      "Degree:  19\tTrain:     76869.01\tTest:    12660608336356.72\n",
      "Degree:  20\tTrain:     76637.37\tTest:     7605537136183.94\n"
     ]
    },
    {
     "data": {
      "image/png": "[encoded data removed]",
      "text/plain": [
       "<matplotlib.figure.Figure at 0x115fb4860>"
      ]
     },
     "metadata": {},
     "output_type": "display_data"
    }
   ],
   "source": [
    "X_train, X_test, y_train, y_test = cross_validation.train_test_split(X, y, test_size=0.5)\n",
    "\n",
    "degs = range(1, 21)\n",
    "\n",
    "train_errors = []\n",
    "test_errors = []\n",
    "\n",
    "for i, deg in enumerate(degs) :\n",
    "    poly = PolynomialFeatures(deg)\n",
    "    dm_train = poly.fit_transform(X_train)\n",
    "    dm_test = poly.fit_transform(X_test)\n",
    "\n",
    "    linreg = LinearRegression()\n",
    "    linreg.fit(dm_train, y_train)\n",
    "    \n",
    "    h_train= linreg.predict(dm_train)\n",
    "    h_test = linreg.predict(dm_test)\n",
    "    error_train = np.sum(np.power(y_train - h_train, 2)) / 2\n",
    "    error_test = np.sum(np.power(y_test - h_test, 2)) / 2\n",
    "    \n",
    "    train_errors.append(error_train)\n",
    "    test_errors.append(error_test)\n",
    "    \n",
    "    print('Degree: {:>3d}\\tTrain: {:>12.2f}\\tTest: {:>20.2f}'.format(deg, error_train, error_test))\n",
    "\n",
    "plt.plot(degs, train_errors, label='Train errors', c='blue')\n",
    "plt.plot(degs, test_errors, label='Test errors', c='red')\n",
    "plt.yscale('log')\n",
    "plt.legend()\n",
    "plt.show()"
   ]
  },
  {
   "cell_type": "markdown",
   "metadata": {},
   "source": [
    "**A:** Je. Ocekivali smo da ce najmanju pogresku testiranja imati model ciji je stupanj isti stupnju funkcije koji je generirao podatke. Dakle, odabrali bi model sa stupnjem 3.\n",
    "\n",
    "**A:** Problem je sto se nasumicno odreduju skup za ucenje i skup za testiranje, pa se u nekim pokretanjima moze dogoditi da u skupu za ucenje dobijemo primjere koji nisu dovoljno dobro rasporedeni. Pomoglo bi da imamo vise primjera, jer bi bila manja sansa da nam skup za testiranje bude lose distribuiran."
   ]
  },
  {
   "cell_type": "markdown",
   "metadata": {},
   "source": [
    "#### (c)"
   ]
  },
  {
   "cell_type": "markdown",
   "metadata": {},
   "source": [
    "Točnost modela ovisi o (1) njegovoj složenosti (stupanj $d$ polinoma), (2) broju primjera $N$, i (3) količini šuma. Kako biste to analizirali, nacrtajte grafikone pogrešaka kao u 3b, ali za sve kombinacija broja primjera $N\\in\\{100,200,1000\\}$ i količine šuma $\\sigma\\in\\{100,200,500\\}$ (ukupno 9 grafikona). Upotrijebite funkciju [`subplots`](http://matplotlib.org/examples/pylab_examples/subplots_demo.html) kako biste pregledno posložili grafikone u tablicu $3\\times 3$. Podatci se generiraju na isti način kao u zadatku 2.\n",
    "\n",
    "**NB:** Pobrinite se da svi grafikoni budu generirani nad usporedivim skupovima podataka, na sljedeći način. Generirajte najprije svih 1000 primjera, podijelite ih na skupove za učenje i skupove za ispitivanje (dva skupa od po 500 primjera). Zatim i od skupa za učenje i od skupa za ispitivanje načinite tri različite verzije, svaka s drugačijom količinom šuma (ukupno 2x3=6 verzija podataka). Kako bi simulirali veličinu skupa podataka, od tih dobivenih 6 skupova podataka uzorkujte trećinu, dvije trećine i sve podatke. Time ste dobili 18 skupova podataka -- skup za učenje i za testiranje za svaki od devet grafova."
   ]
  },
  {
   "cell_type": "markdown",
   "metadata": {},
   "source": [
    "***Q:*** Jesu li rezultati očekivani? Obrazložite."
   ]
  },
  {
   "cell_type": "code",
   "execution_count": 20,
   "metadata": {},
   "outputs": [
    {
     "data": {
      "image/png": "[encoded data removed]",
      "text/plain": [
       "<matplotlib.figure.Figure at 0x116aabcc0>"
      ]
     },
     "metadata": {},
     "output_type": "display_data"
    }
   ],
   "source": [
    "N_coefs = [0.33, 0.66, 1]\n",
    "noises = [100, 200, 500]\n",
    "degs = range(1, 21)\n",
    "\n",
    "x_start = -5\n",
    "x_end = 5\n",
    "N = 1000\n",
    "\n",
    "# podijeli sve primjere u skup za treniranje i testiranje\n",
    "X = make_instances(x_start, x_end, N)\n",
    "X_train, X_test = cross_validation.train_test_split(X, test_size=0.5)\n",
    "\n",
    "# za sve sumove razlicito labelirani skupovi\n",
    "y_train = np.empty(3, dtype=object)\n",
    "y_test = np.empty(3, dtype=object)\n",
    "for i, noise in enumerate(noises):\n",
    "    y_train[i] = np.array(list(make_labels(X_train, f, noise)))\n",
    "    y_test[i] = np.array(list(make_labels(X_test, f, noise)))\n",
    "\n",
    "# uzorkovani primjeri za svaki graf\n",
    "X_trains = np.empty([3, 3], dtype=object)\n",
    "y_trains = np.empty([3, 3], dtype=object)\n",
    "X_tests = np.empty([3, 3], dtype=object)\n",
    "y_tests = np.empty([3, 3], dtype=object)\n",
    "for i, N_coef in enumerate(N_coefs):\n",
    "    for j, noise in enumerate(noises):\n",
    "        X_trains[i][j], temp, y_trains[i][j], temp = cross_validation.train_test_split(X_train, y_train[j], test_size=1-N_coef)\n",
    "        X_tests[i][j], temp, y_tests[i][j], temp = cross_validation.train_test_split(X_test, y_test[j], test_size=1-N_coef)\n",
    "        \n",
    "# treniranje, testiranje i crtanje\n",
    "temp, plots = plt.subplots(3, 3)\n",
    "for i, N_coef in enumerate(N_coefs):\n",
    "    for j, noise in enumerate(noises):\n",
    "        train_errors = []\n",
    "        test_errors = []\n",
    "\n",
    "        for deg in degs:\n",
    "            poly = PolynomialFeatures(deg)\n",
    "            dm_train = poly.fit_transform(X_trains[i][j])\n",
    "            dm_test = poly.fit_transform(X_tests[i][j])\n",
    "\n",
    "            linreg = LinearRegression()\n",
    "            linreg.fit(dm_train, y_trains[i][j])\n",
    "\n",
    "            h_train= linreg.predict(dm_train)\n",
    "            h_test = linreg.predict(dm_test)\n",
    "            error_train = np.sum(np.power(y_trains[i][j] - h_train, 2)) / 2\n",
    "            error_test = np.sum(np.power(y_tests[i][j] - h_test, 2)) / 2\n",
    "\n",
    "            train_errors.append(error_train)\n",
    "            test_errors.append(error_test)\n",
    "        \n",
    "        plots[i, j].plot(degs, train_errors, c='blue')\n",
    "        plots[i, j].plot(degs, test_errors, c='red')\n",
    "        plots[i, j].get_xaxis().set_ticks([])\n",
    "        plots[i, j].get_yaxis().set_ticks([])\n",
    "        plots[i, j].set_title('N=' + str(N_coef) + ',noise=' + str(noise))\n",
    "        \n",
    "plt.show()"
   ]
  },
  {
   "cell_type": "markdown",
   "metadata": {},
   "source": [
    "**A:** Ocekivali smo da je u svim slucajevima najlakse uciti model s najmanjom kolicinom suma i najvecim brojem primjera? Otprilike je tako i ispalo (dolje lijevi graf)."
   ]
  },
  {
   "cell_type": "markdown",
   "metadata": {},
   "source": [
    "### 4. Regularizirana regresija"
   ]
  },
  {
   "cell_type": "markdown",
   "metadata": {},
   "source": [
    "#### (a)\n",
    "\n",
    "U gornjim eksperimentima nismo koristili **regularizaciju**. Vratimo se najprije na primjer iz zadatka 1. Na primjerima iz tog zadatka izračunajte težine $\\mathbf{w}$ za polinomijalni regresijski model stupnja $d=3$ uz L2-regularizaciju (tzv. *ridge regression*), prema izrazu $\\mathbf{w}=(\\mathbf{\\Phi}^\\intercal\\mathbf{\\Phi}+\\lambda\\mathbf{I})^{-1}\\mathbf{\\Phi}^\\intercal\\mathbf{y}$. Napravite izračun težina za regularizacijske faktore $\\lambda=0$, $\\lambda=1$ i $\\lambda=10$ te usporedite dobivene težine.\n",
    "\n",
    "**Q:** Kojih je dimenzija matrica koju treba invertirati?\n",
    "\n",
    "**Q:** Po čemu se razlikuju dobivene težine i je li ta razlika očekivana? Obrazložite."
   ]
  },
  {
   "cell_type": "code",
   "execution_count": 21,
   "metadata": {
    "collapsed": true
   },
   "outputs": [],
   "source": [
    "X = np.array([[0],[1],[2],[4]])\n",
    "y = np.array([4,1,2,5])"
   ]
  },
  {
   "cell_type": "code",
   "execution_count": 22,
   "metadata": {},
   "outputs": [
    {
     "name": "stdout",
     "output_type": "stream",
     "text": [
      "Φ shape: (4, 4)\n",
      "λ: 0 \tw: [ 4.         -5.91666667  3.375      -0.45833333]\n",
      "λ: 1 \tw: [ 1.79567372 -0.24729075 -0.0175289   0.07014758]\n",
      "λ: 10 \tw: [ 0.43312265  0.11060671  0.13827839  0.03093411]\n"
     ]
    }
   ],
   "source": [
    "lbds = [0, 1, 10]\n",
    "deg = 3\n",
    "\n",
    "poly = PolynomialFeatures(deg)\n",
    "dm = poly.fit_transform(X)\n",
    "print('Φ shape:', dm.shape)\n",
    "\n",
    "idt = np.identity(deg + 1)\n",
    "for lbd in lbds:\n",
    "    w = dot(dot(inv(dot(dm.transpose(), dm) + idt * lbd), dm.transpose()), y)\n",
    "    print('λ:', lbd, '\\tw:', w)"
   ]
  },
  {
   "cell_type": "markdown",
   "metadata": {},
   "source": [
    "**A:** Matrica koju treba invertirati je kvadratna.\n",
    "\n",
    "**A:** S vecim stupnjem regularizacije tezine su manje. Rezultat je ocekivan jer je zadatak regularizacije da vuce tezine prema nuli."
   ]
  },
  {
   "cell_type": "markdown",
   "metadata": {},
   "source": [
    "#### (b)"
   ]
  },
  {
   "cell_type": "markdown",
   "metadata": {},
   "source": [
    "Proučite klasu [`Ridge`](http://scikit-learn.org/stable/modules/generated/sklearn.linear_model.Ridge.html#sklearn.linear_model.Ridge) iz modula [`sklearn.linear_model`](http://scikit-learn.org/stable/modules/classes.html#module-sklearn.linear_model), koja implementira L2-regularizirani regresijski model. Parametar $\\alpha$ odgovara parametru $\\lambda$. Primijenite model na istim primjerima kao u prethodnom zadatku i ispišite težine $\\mathbf{w}$ (atributi `coef_` i `intercept_`).\n",
    "\n",
    "**Q:** Jesu li težine identične onima iz zadatka 4a? Ako nisu, objasnite zašto je to tako i kako biste to popravili."
   ]
  },
  {
   "cell_type": "code",
   "execution_count": 23,
   "metadata": {
    "collapsed": true
   },
   "outputs": [],
   "source": [
    "from sklearn.linear_model import Ridge"
   ]
  },
  {
   "cell_type": "code",
   "execution_count": 24,
   "metadata": {},
   "outputs": [
    {
     "name": "stdout",
     "output_type": "stream",
     "text": [
      "λ: 0 \tw: [4.0000000000000213, -5.916666666666765, 3.375000000000054, -0.4583333333333407]\n",
      "λ: 1 \tw: [3.0569614512471666, -0.6907936507936465, -0.2831746031746084, 0.14458049886621419]\n",
      "λ: 10 \tw: [2.4944418431229729, -0.1589729487341473, -0.13423066536848333, 0.08156009919705876]\n"
     ]
    }
   ],
   "source": [
    "for lbd in [0, 1, 10]:\n",
    "    ridge = Ridge(lbd)\n",
    "    ridge.fit(dm, y)\n",
    "    w = [ridge.intercept_] + ridge.coef_.tolist()[1:]\n",
    "\n",
    "    print('λ:', lbd, '\\tw:', w)"
   ]
  },
  {
   "cell_type": "markdown",
   "metadata": {},
   "source": [
    "**A:** Nisu iste, ovdje tezine sporije konvergiraju. Mozda se jedinicna matrica mnozi nekim faktorom manjim od 1?"
   ]
  },
  {
   "cell_type": "markdown",
   "metadata": {},
   "source": [
    "### 5. Regularizirana polinomijalna regresija"
   ]
  },
  {
   "cell_type": "markdown",
   "metadata": {},
   "source": [
    "#### (a)\n",
    "\n",
    "Vratimo se na slučaj $N=50$ slučajno generiranih primjera iz zadatka 2. Trenirajte modele polinomijalne regresije $\\mathcal{H}_{\\lambda,d}$ za $\\lambda\\in\\{0,100\\}$ i $d\\in\\{2,10\\}$ (ukupno četiri modela). Skicirajte pripadne funkcije $h(\\mathbf{x})$ i primjere (na jednom grafikonu; preporučujemo koristiti `plot` unutar `for` petlje).\n",
    "\n",
    "**Q:** Jesu li rezultati očekivani? Obrazložite."
   ]
  },
  {
   "cell_type": "code",
   "execution_count": 25,
   "metadata": {},
   "outputs": [
    {
     "data": {
      "image/png": "[encoded data removed]",
      "text/plain": [
       "<matplotlib.figure.Figure at 0x115ec2390>"
      ]
     },
     "metadata": {},
     "output_type": "display_data"
    }
   ],
   "source": [
    "lbds = [0, 100]\n",
    "degs = [2, 10]\n",
    "\n",
    "colors = ['r', 'g', 'b', 'y']\n",
    "i = 0\n",
    "\n",
    "x_start = -5\n",
    "x_end = 5\n",
    "N = 50\n",
    "noise = 200\n",
    "\n",
    "X = make_instances(x_start, x_end, N)\n",
    "y = np.array(list(make_labels(X, f, noise)))\n",
    "\n",
    "for lbd in lbds:\n",
    "    for deg in degs:\n",
    "        poly = PolynomialFeatures(deg)\n",
    "        dm = poly.fit_transform(X)\n",
    "\n",
    "        ridge = Ridge(lbd)\n",
    "        ridge.fit(dm, y)\n",
    "\n",
    "        plt.plot(X, ridge.predict(dm), c=colors[i], label='λ: {:3d}, Degree: {:2d}'.format(lbd, deg))\n",
    "        i += 1\n",
    "\n",
    "plt.scatter(X, y)\n",
    "plt.legend()\n",
    "plt.show()"
   ]
  },
  {
   "cell_type": "markdown",
   "metadata": {},
   "source": [
    "**A:** Regularizacija ne utjece toliko na model s manjim stupnjem, ali se vidi kod modela s vecim stupnjem da ga regularizacija \"smiri\", ne pokorava se toliko sumu kao model bez regularizacije."
   ]
  },
  {
   "cell_type": "markdown",
   "metadata": {},
   "source": [
    "#### (b)\n",
    "\n",
    "Kao u zadataku 3b, razdvojite primjere na skup za učenje i skup za ispitivanje u omjeru 1:1. Prikažite krivulje logaritama pogreške učenja i ispitne pogreške u ovisnosti za model $\\mathcal{H}_{d=20,\\lambda}$, podešavajući faktor regularizacije $\\lambda$ u rasponu $\\lambda\\in\\{0,1,\\dots,50\\}$.\n",
    "\n",
    "**Q:** Kojoj strani na grafikonu odgovara područje prenaučenosti, a kojoj podnaučenosti? Zašto?\n",
    "\n",
    "**Q:** Koju biste vrijednosti za $\\lambda$ izabrali na temelju ovih grafikona i zašto?\n"
   ]
  },
  {
   "cell_type": "code",
   "execution_count": 29,
   "metadata": {},
   "outputs": [
    {
     "name": "stdout",
     "output_type": "stream",
     "text": [
      "λ:   1\tTrain:    136035.02\tTest:        2119379112.74\n",
      "λ:   2\tTrain:    139293.14\tTest:        1525603884.23\n",
      "λ:   3\tTrain:    141701.49\tTest:        1219724446.10\n",
      "λ:   4\tTrain:    143692.52\tTest:        1027833838.58\n",
      "λ:   5\tTrain:    145395.29\tTest:         897742931.34\n",
      "λ:   6\tTrain:    146886.63\tTest:         802572356.55\n",
      "λ:   7\tTrain:    148202.60\tTest:         731421006.76\n",
      "λ:   8\tTrain:    149383.49\tTest:         675706104.34\n",
      "λ:   9\tTrain:    150446.83\tTest:         632026836.49\n",
      "λ:  10\tTrain:    151414.23\tTest:         596471337.63\n",
      "λ:  11\tTrain:    152302.87\tTest:         566684099.18\n",
      "λ:  12\tTrain:    153124.79\tTest:         540903984.42\n",
      "λ:  13\tTrain:    153881.29\tTest:         520215642.19\n",
      "λ:  14\tTrain:    154586.82\tTest:         502123042.82\n",
      "λ:  15\tTrain:    155246.69\tTest:         486542013.83\n",
      "λ:  16\tTrain:    155864.21\tTest:         473091685.21\n",
      "λ:  17\tTrain:    156444.93\tTest:         461279521.83\n",
      "λ:  18\tTrain:    156995.35\tTest:         450645017.60\n",
      "λ:  19\tTrain:    157514.02\tTest:         441332222.24\n",
      "λ:  20\tTrain:    158006.75\tTest:         432968915.60\n",
      "λ:  21\tTrain:    158474.35\tTest:         425905412.19\n",
      "λ:  22\tTrain:    158918.83\tTest:         419296568.78\n",
      "λ:  23\tTrain:    159343.92\tTest:         413273989.12\n",
      "λ:  24\tTrain:    159749.79\tTest:         408063646.76\n",
      "λ:  25\tTrain:    160137.83\tTest:         403223306.41\n",
      "λ:  26\tTrain:    160510.57\tTest:         398935216.56\n",
      "λ:  27\tTrain:    160867.78\tTest:         394979922.94\n",
      "λ:  28\tTrain:    161209.07\tTest:         391080895.65\n",
      "λ:  29\tTrain:    161540.37\tTest:         387902261.82\n",
      "λ:  30\tTrain:    161856.12\tTest:         384737030.41\n",
      "λ:  31\tTrain:    162161.12\tTest:         381934344.54\n",
      "λ:  32\tTrain:    162456.18\tTest:         379558792.96\n",
      "λ:  33\tTrain:    162742.55\tTest:         377211321.49\n",
      "λ:  34\tTrain:    163016.48\tTest:         375161785.79\n",
      "λ:  35\tTrain:    163280.96\tTest:         373006427.26\n",
      "λ:  36\tTrain:    163539.03\tTest:         371162083.51\n",
      "λ:  37\tTrain:    163787.16\tTest:         369452973.64\n",
      "λ:  38\tTrain:    164028.39\tTest:         367833374.23\n",
      "λ:  39\tTrain:    164262.53\tTest:         366525382.33\n",
      "λ:  40\tTrain:    164490.09\tTest:         365372224.98\n",
      "λ:  41\tTrain:    164709.87\tTest:         364182453.67\n",
      "λ:  42\tTrain:    164923.66\tTest:         363030687.63\n",
      "λ:  43\tTrain:    165131.41\tTest:         361975478.50\n",
      "λ:  44\tTrain:    165332.91\tTest:         361081695.92\n",
      "λ:  45\tTrain:    165529.45\tTest:         360250288.83\n",
      "λ:  46\tTrain:    165720.40\tTest:         359502074.14\n",
      "λ:  47\tTrain:    165905.72\tTest:         358553323.23\n",
      "λ:  48\tTrain:    166086.73\tTest:         357948287.24\n",
      "λ:  49\tTrain:    166263.52\tTest:         357344601.76\n",
      "λ:  50\tTrain:    166435.11\tTest:         356792023.67\n"
     ]
    },
    {
     "data": {
      "image/png": "[encoded data removed]",
      "text/plain": [
       "<matplotlib.figure.Figure at 0x115f0fc18>"
      ]
     },
     "metadata": {},
     "output_type": "display_data"
    }
   ],
   "source": [
    "X_train, X_test, y_train, y_test = cross_validation.train_test_split(X, y, test_size=0.5)\n",
    "\n",
    "deg = 20\n",
    "lbds = range(1, 51)\n",
    "\n",
    "train_errors = []\n",
    "test_errors = []\n",
    "\n",
    "poly = PolynomialFeatures(deg)\n",
    "dm_train = poly.fit_transform(X_train)\n",
    "dm_test = poly.fit_transform(X_test)\n",
    "\n",
    "for i, lbd in enumerate(lbds) :\n",
    "    ridge = Ridge(lbd)\n",
    "    ridge.fit(dm_train, y_train)\n",
    "    \n",
    "    h_train= ridge.predict(dm_train)\n",
    "    h_test = ridge.predict(dm_test)\n",
    "    error_train = np.sum(np.power(y_train - h_train, 2)) / 2\n",
    "    error_test = np.sum(np.power(y_test - h_test, 2)) / 2\n",
    "    \n",
    "    train_errors.append(error_train)\n",
    "    test_errors.append(error_test)\n",
    "    \n",
    "    print('λ: {:>3d}\\tTrain: {:>12.2f}\\tTest: {:>20.2f}'.format(lbd, error_train, error_test))\n",
    "\n",
    "plt.plot(lbds, train_errors, label='Train errors', c='blue')\n",
    "plt.plot(lbds, test_errors, label='Test errors', c='red')\n",
    "plt.legend()\n",
    "plt.show()"
   ]
  },
  {
   "cell_type": "markdown",
   "metadata": {},
   "source": [
    "**A:** Na lijevoj strani grafa je model prenaucen, jer je regularizacijski faktor mali i model je preekspresivan. Prema desnoj strani grafa pogreska testiranja pada jer se model zbog vece regularizacije manje pokorava sumu.\n",
    "    \n",
    "**A:** Po ovom grafu uzeo bi veliki regularizacijski faktor, jer za ovaj stupanj modela daje dobre rezultate.\n",
    "\n",
    "P.s. ovo su moje pretpostavke, jer mi svako pokretanje algoritma daje drugacije rezultate, mozda povecati broj primjera?"
   ]
  },
  {
   "cell_type": "markdown",
   "metadata": {},
   "source": [
    "### 6. L1-regularizacija i L2-regularizacija"
   ]
  },
  {
   "cell_type": "markdown",
   "metadata": {},
   "source": [
    "Svrha regularizacije jest potiskivanje težina modela $\\mathbf{w}$ prema nuli, kako bi model bio što jednostavniji. Složenost modela može se okarakterizirati normom pripadnog vektora težina $\\mathbf{w}$, i to tipično L2-normom ili L1-normom. Za jednom trenirani model možemo izračunati i broj ne-nul značajki, ili L0-normu, pomoću sljedeće funkcije:"
   ]
  },
  {
   "cell_type": "code",
   "execution_count": 30,
   "metadata": {
    "collapsed": true
   },
   "outputs": [],
   "source": [
    "def nonzeroes(coef, tol=1e-6): \n",
    "    return len(coef) - len(coef[sp.isclose(0, coef, atol=tol)])"
   ]
  },
  {
   "cell_type": "markdown",
   "metadata": {},
   "source": [
    "#### (a)\n",
    "\n",
    "Za ovaj zadatak upotrijebite skup za učenje i skup za testiranje iz zadatka 3b. Trenirajte modele **L2-regularizirane** polinomijalne regresije stupnja $d=20$, mijenjajući hiperparametar $\\lambda$ u rasponu $\\{1,2,\\dots,100\\}$. Za svaki od treniranih modela izračunajte L{0,1,2}-norme vektora težina $\\mathbf{w}$ te ih prikažite kao funkciju od $\\lambda$.\n",
    "\n",
    "**Q:** Objasnite oblik obiju krivulja. Hoće li krivulja za $\\|\\mathbf{w}\\|_2$ doseći nulu? Zašto? Je li to problem? Zašto?\n",
    "\n",
    "**Q:** Za $\\lambda=100$, koliki je postotak težina modela jednak nuli, odnosno koliko je model rijedak?"
   ]
  },
  {
   "cell_type": "code",
   "execution_count": 31,
   "metadata": {
    "collapsed": true
   },
   "outputs": [],
   "source": [
    "from sklearn.linear_model import Ridge"
   ]
  },
  {
   "cell_type": "code",
   "execution_count": 32,
   "metadata": {},
   "outputs": [
    {
     "data": {
      "image/png": "[encoded data removed]",
      "text/plain": [
       "<matplotlib.figure.Figure at 0x116d4b518>"
      ]
     },
     "metadata": {},
     "output_type": "display_data"
    }
   ],
   "source": [
    "deg = 20\n",
    "lbds = range(1, 101)\n",
    "\n",
    "X_train, X_test, y_train, y_test = cross_validation.train_test_split(X, y, test_size=0.5)\n",
    "\n",
    "l0_norms = []\n",
    "l1_norms = []\n",
    "l2_norms = []\n",
    "\n",
    "poly = PolynomialFeatures(deg)\n",
    "dm_train = poly.fit_transform(X_train)\n",
    "dm_test = poly.fit_transform(X_test)\n",
    "\n",
    "for lbd in lbds:\n",
    "    ridge = Ridge(lbd)\n",
    "    ridge.fit(dm_train, y_train)\n",
    "    \n",
    "    l0_norms.append(nonzeroes(ridge.coef_))\n",
    "    l1_norms.append(norm(ridge.coef_, 1))\n",
    "    l2_norms.append(norm(ridge.coef_, 2))\n",
    "\n",
    "plt.plot(lbds, l0_norms, c='red', label='L0')\n",
    "plt.plot(lbds, l1_norms, c='green', label='L1')\n",
    "plt.plot(lbds, l2_norms, c='blue', label='L2')\n",
    "plt.legend()\n",
    "plt.show()"
   ]
  },
  {
   "cell_type": "markdown",
   "metadata": {},
   "source": [
    "**A:** Ne znam, ima veze [s ovim](https://2.bp.blogspot.com/-bx18zSHaWd8/WCFBi_fr8AI/AAAAAAAAAlc/WJCI4s-GaYY4oWnzOyughmi4JAz6_OMUwCLcB/s1600/L%255Ep%2Bunit%2Bballs.png). Nece skroz doseci nulu, ali zelimo da se sto vise priblizi, jer zelimo rijetke modele, zato sto onda mozemo eliminirati parametre koji nam ne utjecu puno u odluci modela, a manje parametara = brzi model.\n",
    "\n",
    "**A:** Ne toliko veliki postotak kao kod L1 regresije.\n",
    "\n",
    "// todo: teska nagadanja, provjeriti"
   ]
  },
  {
   "cell_type": "markdown",
   "metadata": {},
   "source": [
    "#### (b)"
   ]
  },
  {
   "cell_type": "markdown",
   "metadata": {},
   "source": [
    "Glavna prednost L1-regularizirane regresije (ili *LASSO regression*) nad L2-regulariziranom regresijom jest u tome što L1-regularizirana regresija rezultira **rijetkim modelima** (engl. *sparse models*), odnosno modelima kod kojih su mnoge težine pritegnute na nulu. Pokažite da je to doista tako, ponovivši gornji eksperiment s **L1-regulariziranom** regresijom, implementiranom u klasi  [`Lasso`](http://scikit-learn.org/stable/modules/generated/sklearn.linear_model.Lasso.html) u modulu [`sklearn.linear_model`](http://scikit-learn.org/stable/modules/classes.html#module-sklearn.linear_model)."
   ]
  },
  {
   "cell_type": "code",
   "execution_count": 33,
   "metadata": {
    "collapsed": true
   },
   "outputs": [],
   "source": [
    "from sklearn.linear_model import Lasso"
   ]
  },
  {
   "cell_type": "code",
   "execution_count": 34,
   "metadata": {},
   "outputs": [
    {
     "name": "stderr",
     "output_type": "stream",
     "text": [
      "/usr/local/lib/python3.6/site-packages/sklearn/linear_model/coordinate_descent.py:491: ConvergenceWarning: Objective did not converge. You might want to increase the number of iterations. Fitting data with very small alpha may cause precision problems.\n",
      "  ConvergenceWarning)\n"
     ]
    },
    {
     "data": {
      "image/png": "[encoded data removed]",
      "text/plain": [
       "<matplotlib.figure.Figure at 0x116bcb630>"
      ]
     },
     "metadata": {},
     "output_type": "display_data"
    }
   ],
   "source": [
    "deg = 20\n",
    "lbds = range(1, 101)\n",
    "\n",
    "X_train, X_test, y_train, y_test = cross_validation.train_test_split(X, y, test_size=0.5)\n",
    "\n",
    "l0_norms = []\n",
    "l1_norms = []\n",
    "l2_norms = []\n",
    "\n",
    "poly = PolynomialFeatures(deg)\n",
    "dm_train = poly.fit_transform(X_train)\n",
    "dm_test = poly.fit_transform(X_test)\n",
    "\n",
    "for lbd in lbds:\n",
    "    lasso = Lasso(lbd)\n",
    "    lasso.fit(dm_train, y_train)\n",
    "    \n",
    "    l0_norms.append(nonzeroes(lasso.coef_))\n",
    "    l1_norms.append(norm(lasso.coef_, 1))\n",
    "    l2_norms.append(norm(lasso.coef_, 2))\n",
    "\n",
    "plt.plot(lbds, l0_norms, c='red', label='L0')\n",
    "plt.plot(lbds, l1_norms, c='green', label='L1')\n",
    "plt.plot(lbds, l2_norms, c='blue', label='L2')\n",
    "plt.legend()\n",
    "plt.show()"
   ]
  },
  {
   "cell_type": "markdown",
   "metadata": {},
   "source": [
    "### 7. Značajke različitih skala"
   ]
  },
  {
   "cell_type": "markdown",
   "metadata": {},
   "source": [
    "Često se u praksi možemo susreti sa podatcima u kojima sve značajke nisu jednakih magnituda. Primjer jednog takvog skupa je regresijski skup podataka `grades` u kojem se predviđa prosjek ocjena studenta na studiju (1--5) na temelju dvije značajke: bodova na prijamnom ispitu (1--3000) i prosjeka ocjena u srednjoj školi. Prosjek ocjena na studiju izračunat je kao težinska suma ove dvije značajke uz dodani šum.\n",
    "\n",
    "Koristite sljedeći kôd kako biste generirali ovaj skup podataka."
   ]
  },
  {
   "cell_type": "code",
   "execution_count": 35,
   "metadata": {
    "collapsed": true
   },
   "outputs": [],
   "source": [
    "n_data_points = 500\n",
    "np.random.seed(69)\n",
    "\n",
    "# Generiraj podatke o bodovima na prijamnom ispitu koristeći normalnu razdiobu i ograniči ih na interval [1, 3000].\n",
    "exam_score = np.random.normal(loc=1500.0, scale = 500.0, size = n_data_points) \n",
    "exam_score = np.round(exam_score)\n",
    "exam_score[exam_score > 3000] = 3000\n",
    "exam_score[exam_score < 0] = 0\n",
    "\n",
    "# Generiraj podatke o ocjenama iz srednje škole koristeći normalnu razdiobu i ograniči ih na interval [1, 5].\n",
    "grade_in_highschool = np.random.normal(loc=3, scale = 2.0, size = n_data_points)\n",
    "grade_in_highschool[grade_in_highschool > 5] = 5\n",
    "grade_in_highschool[grade_in_highschool < 1] = 1\n",
    "\n",
    "# Matrica dizajna.\n",
    "grades_X = np.array([exam_score,grade_in_highschool]).T\n",
    "\n",
    "# Završno, generiraj izlazne vrijednosti.\n",
    "rand_noise = np.random.normal(loc=0.0, scale = 0.5, size = n_data_points)\n",
    "exam_influence = 0.9\n",
    "grades_y = ((exam_score / 3000.0) * (exam_influence) + (grade_in_highschool / 5.0) \\\n",
    "            * (1.0 - exam_influence)) * 5.0 + rand_noise\n",
    "grades_y[grades_y < 1] = 1\n",
    "grades_y[grades_y > 5] = 5"
   ]
  },
  {
   "cell_type": "markdown",
   "metadata": {},
   "source": [
    "**a)**"
   ]
  },
  {
   "cell_type": "markdown",
   "metadata": {},
   "source": [
    "Iscrtajte ovisnost ciljne vrijednosti (y-os) o prvoj i o drugoj značajki (x-os). Iscrtajte dva odvojena grafa."
   ]
  },
  {
   "cell_type": "code",
   "execution_count": 36,
   "metadata": {},
   "outputs": [
    {
     "data": {
      "image/png": "[encoded data removed]",
      "text/plain": [
       "<matplotlib.figure.Figure at 0x116557b38>"
      ]
     },
     "metadata": {},
     "output_type": "display_data"
    }
   ],
   "source": [
    "temp, plots = plt.subplots(1, 2, figsize=(16, 8))\n",
    "\n",
    "plots[0].scatter(exam_score, grades_y, c='b')\n",
    "plots[0].set_xlabel('exam_score')\n",
    "plots[0].set_ylabel('grades')\n",
    "\n",
    "plots[1].scatter(grade_in_highschool, grades_y, c='r')\n",
    "plots[1].set_xlabel('grade_in_highschool')\n",
    "plots[1].set_ylabel('grades')\n",
    "\n",
    "plt.show()"
   ]
  },
  {
   "cell_type": "markdown",
   "metadata": {},
   "source": [
    "**b)**"
   ]
  },
  {
   "cell_type": "markdown",
   "metadata": {},
   "source": [
    "Naučite model L2-regularizirane regresije ($\\lambda = 0.01$), na podacima `grades_X` i `grades_y`:"
   ]
  },
  {
   "cell_type": "code",
   "execution_count": 69,
   "metadata": {},
   "outputs": [
    {
     "name": "stdout",
     "output_type": "stream",
     "text": [
      "w: [0.15061179575775929, 0.09477275879174113]\n"
     ]
    }
   ],
   "source": [
    "lbd = 0.01\n",
    "\n",
    "ridge = Ridge(lbd)\n",
    "ridge.fit(grades_X, grades_y)\n",
    "\n",
    "w = [ridge.intercept_] + ridge.coef_.tolist()[1:]\n",
    "\n",
    "print('w:', w)"
   ]
  },
  {
   "cell_type": "markdown",
   "metadata": {},
   "source": [
    "Sada ponovite gornji eksperiment, ali prvo skalirajte podatke `grades_X` i `grades_y`. Za tu svrhu, koristite [`StandardScaler`](http://scikit-learn.org/stable/modules/generated/sklearn.preprocessing.StandardScaler.html)."
   ]
  },
  {
   "cell_type": "code",
   "execution_count": 70,
   "metadata": {},
   "outputs": [
    {
     "name": "stdout",
     "output_type": "stream",
     "text": [
      "w: [2.5030316359918503, 0.13741538884947344]\n"
     ]
    }
   ],
   "source": [
    "from sklearn.preprocessing import StandardScaler\n",
    "\n",
    "scaler = StandardScaler()\n",
    "scaler.fit(grades_X)\n",
    "\n",
    "grades_X_fixed = scaler.transform(grades_X)\n",
    "\n",
    "ridge = Ridge(lbd)\n",
    "ridge.fit(grades_X_fixed, grades_y)\n",
    "\n",
    "w = [ridge.intercept_] + ridge.coef_.tolist()[1:]\n",
    "\n",
    "print('w:', w)"
   ]
  },
  {
   "cell_type": "markdown",
   "metadata": {},
   "source": [
    "**Q:** Gledajući grafikone iz podzadatka (a), koja značajka bi trebala imati veću magnitudu, odnosno važnost pri predikciji prosjeka na studiju? Odgovaraju li težine Vašoj intuiciji? Objasnite.  "
   ]
  },
  {
   "cell_type": "code",
   "execution_count": 58,
   "metadata": {},
   "outputs": [
    {
     "data": {
      "image/png": "[encoded data removed]",
      "text/plain": [
       "<matplotlib.figure.Figure at 0x116aa2940>"
      ]
     },
     "metadata": {},
     "output_type": "display_data"
    }
   ],
   "source": [
    "temp, plots = plt.subplots(1, 2, figsize=(10, 5))\n",
    "\n",
    "plots[0].scatter(grades_X[:,0], grades_X[:,1], c='b')\n",
    "plots[0].set_xlabel('exam_score')\n",
    "plots[0].set_ylabel('grade_in_highschool')\n",
    "plots[1].set_title('not_scaled')\n",
    "\n",
    "plots[1].scatter(grades_X_fixed[:,0], grades_X_fixed[:,1], c='r')\n",
    "plots[1].set_xlabel('exam_score')\n",
    "plots[1].set_ylabel('grade_in_highschool')\n",
    "plots[1].set_title('scaled')\n",
    "\n",
    "plt.show()"
   ]
  },
  {
   "cell_type": "markdown",
   "metadata": {},
   "source": [
    "**A:** Po grafikonima bodovi na prijamnom su bolje korelirani s ocjenom na faksu. U prvom primjeru tezine su otprilike iste, ali nakon skaliranja po tezinama vidimo da bodovi s prijamnog puno vise utjecu na odluku.\n",
    "\n",
    "Zasto? Nisam siguran sto se tu dogada, ali moja pretpostavka je da skaliranjem dobijemo neutralniju skalu (vidim na grafovima iznad da se samo skala promijenila, tj. oba parametra imaju istu srednju vrijednost i slicnu varijancu) i da zbog toga vise dolazi do izrazaja koji parametar je bolje koreliran s ciljnom vrijednosti.\n",
    "\n",
    "// todo: provjeriti"
   ]
  },
  {
   "cell_type": "markdown",
   "metadata": {},
   "source": [
    "### 8. Multikolinearnost i kondicija matrice"
   ]
  },
  {
   "cell_type": "markdown",
   "metadata": {},
   "source": [
    "**a)**"
   ]
  },
  {
   "cell_type": "markdown",
   "metadata": {},
   "source": [
    "Izradite skup podataka `grades_X_fixed_colinear` tako što ćete u skupu `grades_X_fixed` iz\n",
    "zadatka 7b duplicirati zadnji stupac (ocjenu iz srednje škole). Time smo efektivno uveli savršenu multikolinearnost."
   ]
  },
  {
   "cell_type": "code",
   "execution_count": 67,
   "metadata": {},
   "outputs": [],
   "source": [
    "grades_X_fixed_colinear = np.hstack([grades_X_fixed, grades_X_fixed[:,1].reshape(-1, 1)])"
   ]
  },
  {
   "cell_type": "markdown",
   "metadata": {},
   "source": [
    "Ponovno, naučite na ovom skupu L2-regularizirani model regresije ($\\lambda = 0.01$)."
   ]
  },
  {
   "cell_type": "code",
   "execution_count": 71,
   "metadata": {},
   "outputs": [
    {
     "name": "stdout",
     "output_type": "stream",
     "text": [
      "w: [2.5030316359918503, 0.06870838527883373, 0.06870838527871266]\n"
     ]
    }
   ],
   "source": [
    "lbd = 0.01\n",
    "\n",
    "ridge = Ridge(lbd)\n",
    "ridge.fit(grades_X_fixed_colinear, grades_y)\n",
    "\n",
    "w = [ridge.intercept_] + ridge.coef_.tolist()[1:]\n",
    "\n",
    "print('w:', w)"
   ]
  },
  {
   "cell_type": "markdown",
   "metadata": {},
   "source": [
    "**Q:** Usporedite iznose težina s onima koje ste dobili u zadatku *7b*. Što se dogodilo?"
   ]
  },
  {
   "cell_type": "markdown",
   "metadata": {},
   "source": [
    "**A:** Tezina za drugi parametar raspolovila se na svaki od ova dva kopirana parametra.\n",
    "\n",
    "// todo: zasto?"
   ]
  },
  {
   "cell_type": "markdown",
   "metadata": {},
   "source": [
    "**b)**"
   ]
  },
  {
   "cell_type": "markdown",
   "metadata": {},
   "source": [
    "Slučajno uzorkujte 50% elemenata iz skupa `grades_X_fixed_colinear` i naučite dva modela L2-regularizirane regresije, jedan s $\\lambda=0.01$, a jedan s $\\lambda=1000$. Ponovite ovaj pokus 10 puta (svaki put s drugim podskupom od 50% elemenata).  Za svaki model, ispišite dobiveni vektor težina u svih 10 ponavljanja te ispišite standardnu devijaciju vrijednosti svake od težina (ukupno šest standardnih devijacija, svaka dobivena nad 10 vrijednosti)."
   ]
  },
  {
   "cell_type": "code",
   "execution_count": null,
   "metadata": {
    "collapsed": true
   },
   "outputs": [],
   "source": [
    "# Vaš kôd ovdje"
   ]
  },
  {
   "cell_type": "markdown",
   "metadata": {},
   "source": [
    "**Q:** Kako regularizacija utječe na stabilnost težina?  \n",
    "**Q:** Jesu li koeficijenti jednakih magnituda kao u prethodnom pokusu? Objasnite zašto."
   ]
  },
  {
   "cell_type": "markdown",
   "metadata": {},
   "source": [
    "**c)**"
   ]
  },
  {
   "cell_type": "markdown",
   "metadata": {},
   "source": [
    "Koristeći [`numpy.linalg.cond`](https://docs.scipy.org/doc/numpy-1.13.0/reference/generated/numpy.linalg.cond.html) izračunajte kondicijski broj matrice $\\mathbf{\\Phi}^\\intercal\\mathbf{\\Phi}+\\lambda\\mathbf{I}$, gdje je $\\mathbf{\\Phi}$ matrica dizajna (`grades_fixed_X_colinear`). Ponovite i za $\\lambda=0.01$ i za $\\lambda=10$."
   ]
  },
  {
   "cell_type": "code",
   "execution_count": null,
   "metadata": {
    "collapsed": true
   },
   "outputs": [],
   "source": [
    "# Vaš kôd ovdje"
   ]
  },
  {
   "cell_type": "markdown",
   "metadata": {},
   "source": [
    "**Q:** Kako regularizacija utječe na kondicijski broj matrice $\\mathbf{\\Phi}^\\intercal\\mathbf{\\Phi}+\\lambda\\mathbf{I}$?  "
   ]
  }
 ],
 "metadata": {
  "anaconda-cloud": {},
  "kernelspec": {
   "display_name": "Python 3",
   "language": "python3",
   "name": "python3"
  },
  "language_info": {
   "codemirror_mode": {
    "name": "ipython",
    "version": 3
   },
   "file_extension": ".py",
   "mimetype": "text/x-python",
   "name": "python",
   "nbconvert_exporter": "python",
   "pygments_lexer": "ipython3",
   "version": "3.6.3"
  }
 },
 "nbformat": 4,
 "nbformat_minor": 1
}
